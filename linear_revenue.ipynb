{
 "cells": [
  {
   "cell_type": "code",
   "execution_count": 28,
   "metadata": {},
   "outputs": [],
   "source": [
    "import numpy as np\n",
    "import pandas as pd\n",
    "pd.set_option(\"display.max_columns\", None)\n",
    "import matplotlib.pyplot as plt"
   ]
  },
  {
   "cell_type": "code",
   "execution_count": 29,
   "metadata": {},
   "outputs": [
    {
     "name": "stdout",
     "output_type": "stream",
     "text": [
      "<class 'pandas.core.frame.DataFrame'>\n",
      "RangeIndex: 137 entries, 0 to 136\n",
      "Data columns (total 42 columns):\n",
      " #   Column      Non-Null Count  Dtype  \n",
      "---  ------      --------------  -----  \n",
      " 0   Id          137 non-null    int64  \n",
      " 1   Open Date   137 non-null    int64  \n",
      " 2   City Group  137 non-null    int64  \n",
      " 3   Type        137 non-null    int64  \n",
      " 4   P1          137 non-null    int64  \n",
      " 5   P2          137 non-null    float64\n",
      " 6   P3          137 non-null    float64\n",
      " 7   P4          137 non-null    float64\n",
      " 8   P5          137 non-null    int64  \n",
      " 9   P6          137 non-null    int64  \n",
      " 10  P7          137 non-null    int64  \n",
      " 11  P8          137 non-null    int64  \n",
      " 12  P9          137 non-null    int64  \n",
      " 13  P10         137 non-null    int64  \n",
      " 14  P11         137 non-null    int64  \n",
      " 15  P12         137 non-null    int64  \n",
      " 16  P13         137 non-null    float64\n",
      " 17  P14         137 non-null    int64  \n",
      " 18  P15         137 non-null    int64  \n",
      " 19  P16         137 non-null    int64  \n",
      " 20  P17         137 non-null    int64  \n",
      " 21  P18         137 non-null    int64  \n",
      " 22  P19         137 non-null    int64  \n",
      " 23  P20         137 non-null    int64  \n",
      " 24  P21         137 non-null    int64  \n",
      " 25  P22         137 non-null    int64  \n",
      " 26  P23         137 non-null    int64  \n",
      " 27  P24         137 non-null    int64  \n",
      " 28  P25         137 non-null    int64  \n",
      " 29  P26         137 non-null    float64\n",
      " 30  P27         137 non-null    float64\n",
      " 31  P28         137 non-null    float64\n",
      " 32  P29         137 non-null    float64\n",
      " 33  P30         137 non-null    int64  \n",
      " 34  P31         137 non-null    int64  \n",
      " 35  P32         137 non-null    int64  \n",
      " 36  P33         137 non-null    int64  \n",
      " 37  P34         137 non-null    int64  \n",
      " 38  P35         137 non-null    int64  \n",
      " 39  P36         137 non-null    int64  \n",
      " 40  P37         137 non-null    int64  \n",
      " 41  revenue     137 non-null    float64\n",
      "dtypes: float64(9), int64(33)\n",
      "memory usage: 45.1 KB\n",
      "None\n"
     ]
    }
   ],
   "source": [
    "dataset = pd.read_csv(\"processed_train.csv\")\n",
    "print(dataset.info())"
   ]
  },
  {
   "cell_type": "code",
   "execution_count": 30,
   "metadata": {},
   "outputs": [
    {
     "name": "stdout",
     "output_type": "stream",
     "text": [
      "   Id  Open Date  City Group  Type  P1   P2   P3   P4  P5  P6  P7  P8  P9  \\\n",
      "0   0       1999           0     2   4  5.0  4.0  4.0   2   2   5   4   5   \n",
      "1   1       2008           0     1   4  5.0  4.0  4.0   1   2   5   5   5   \n",
      "2   2       2013           1     2   2  4.0  2.0  5.0   2   3   5   5   5   \n",
      "3   3       2012           1     2   6  4.5  6.0  6.0   4   4  10   8  10   \n",
      "4   4       2009           1     2   3  4.0  3.0  4.0   2   2   5   5   5   \n",
      "\n",
      "   P10  P11  P12  P13  P14  P15  P16  P17  P18  P19  P20  P21  P22  P23  P24  \\\n",
      "0    5    3    5  5.0    1    2    2    2    4    5    4    1    3    3    1   \n",
      "1    5    1    5  5.0    0    0    0    0    0    3    2    1    3    2    0   \n",
      "2    5    2    5  5.0    0    0    0    0    0    1    1    1    1    1    0   \n",
      "3   10    8   10  7.5    6    4    9    3   12   20   12    6    1   10    2   \n",
      "4    5    2    5  5.0    2    1    2    1    4    2    2    1    2    1    2   \n",
      "\n",
      "   P25  P26  P27  P28  P29  P30  P31  P32  P33  P34  P35  P36  P37    revenue  \n",
      "0    1  1.0  4.0  2.0  3.0    5    3    4    5    5    4    3    4  5653753.0  \n",
      "1    0  0.0  0.0  3.0  3.0    0    0    0    0    0    0    0    0  6923131.0  \n",
      "2    0  0.0  0.0  1.0  3.0    0    0    0    0    0    0    0    0  2055379.0  \n",
      "3    2  2.5  2.5  2.5  7.5   25   12   10    6   18   12   12    6  2675511.0  \n",
      "4    3  3.0  5.0  1.0  3.0    5    1    3    2    3    4    3    3  4316715.0  \n"
     ]
    }
   ],
   "source": [
    "print(dataset.head())"
   ]
  },
  {
   "cell_type": "code",
   "execution_count": 31,
   "metadata": {},
   "outputs": [],
   "source": [
    "X_train = dataset.iloc[:, 1:-1].values\n",
    "y_train = dataset.iloc[:, -1].values"
   ]
  },
  {
   "cell_type": "code",
   "execution_count": 32,
   "metadata": {},
   "outputs": [
    {
     "name": "stdout",
     "output_type": "stream",
     "text": [
      "(137, 40)\n",
      "(137,)\n"
     ]
    }
   ],
   "source": [
    "print(X_train.shape)\n",
    "print(y_train.shape)"
   ]
  },
  {
   "cell_type": "code",
   "execution_count": 33,
   "metadata": {},
   "outputs": [
    {
     "name": "stdout",
     "output_type": "stream",
     "text": [
      "40\n"
     ]
    }
   ],
   "source": [
    "print(len(X_train[0]))"
   ]
  },
  {
   "cell_type": "code",
   "execution_count": 34,
   "metadata": {},
   "outputs": [],
   "source": [
    "from sklearn.preprocessing import StandardScaler\n",
    "\n",
    "scaler = StandardScaler()\n",
    "X_train = scaler.fit_transform(X_train)"
   ]
  },
  {
   "attachments": {},
   "cell_type": "markdown",
   "metadata": {},
   "source": [
    "# With OUR_OWN_MODEL"
   ]
  },
  {
   "cell_type": "code",
   "execution_count": 35,
   "metadata": {},
   "outputs": [],
   "source": [
    "from linear_scratch import LinearRegression\n",
    "\n",
    "linear_regressor = LinearRegression(lr=0.0001, n_iters=10000)\n",
    "linear_regressor.fit(X_train, y_train)"
   ]
  },
  {
   "cell_type": "code",
   "execution_count": 36,
   "metadata": {},
   "outputs": [
    {
     "data": {
      "text/plain": [
       "array([3862675.6147185 , 3199169.55162581, 1812772.23932892,\n",
       "        553156.48441622, 2032786.80401043, 3941204.47292003,\n",
       "       2628568.50534307, 3065429.66268009, 1387177.33359551,\n",
       "       1808255.17185237, 3350738.31079429, 2501251.43304818,\n",
       "       1859874.57055866, 3076647.66549428, 1868152.84766392,\n",
       "       2110695.74691134, 4591171.38508465, 3231379.57125691,\n",
       "       2255479.95116135, 2067574.61058647, 2239398.18625452,\n",
       "       2945464.68539956, 2640580.13234153, 2789859.34026159,\n",
       "       3240425.8701627 , 2266135.63488994, 2969725.55866808,\n",
       "       4051065.79504009, 4359135.41599587, 2957284.03195802,\n",
       "       1622700.03534923, 2409877.05977174, 2643061.52287104,\n",
       "       1782053.42787595, 3066846.57509735, 4154571.83198663,\n",
       "       3384111.86372617, 2279505.09915456, 3375256.01766759,\n",
       "       3236568.57669803, 3447302.56376584, 3744169.16625636,\n",
       "       3080033.75116502, 2818663.01829644, 3027783.35470487,\n",
       "       2150000.28910046, 2448011.90136029, 3255744.2228032 ,\n",
       "       2674265.82805258, 3507386.06656196, 3048530.82893256,\n",
       "       1728198.26324974, 1706714.40633794, 2066138.99391957,\n",
       "       3560258.12267255, 3268112.63989202, 2766531.86083311,\n",
       "       2673009.74288665, 2552268.99035878, 3320867.76204185,\n",
       "       1713296.01586898, 3863146.17299918, 2578735.71681844,\n",
       "       1524063.30895686, 3680869.48116614, 2539466.2194509 ,\n",
       "       1940995.82848594, 3632828.15144395, 2622722.1202154 ,\n",
       "       1595881.79966323, 3528789.68420669, 3450634.11921191,\n",
       "       3409280.16279677, 3662378.43554825, 3905240.16391299,\n",
       "       4658089.02038105, 2717681.17389692, 3180484.43184166,\n",
       "       2208360.15953706, 2024197.04130077, 3461547.9841803 ,\n",
       "       3562580.51255697, 2096306.19075026, 4338114.32725289,\n",
       "       2611728.66554042, 4520334.67520643, 2064045.55992389,\n",
       "       3737855.0032349 , 1677535.65297671, 1957317.76474015,\n",
       "       2963156.34646512, 2393359.66311805, 4962167.00169561,\n",
       "       1847740.63840553, 1837163.30641723, 2013282.48455332,\n",
       "       2735729.64127459, 3836917.71553493, 2410278.15619853,\n",
       "       4932376.86457728, 3650741.60898472, 2024858.4323432 ,\n",
       "       3361451.86230149, 2218356.68892227, 2254267.97162376,\n",
       "       2080055.73797632, 1480531.76399328, 2228166.06368079,\n",
       "       1958844.19714406, 3872757.057745  ,  576120.35250585,\n",
       "       1846497.15234149, 4532064.77303468, 2784931.30222486,\n",
       "       2646688.52569204, 1124463.4974239 , 2778971.85396635,\n",
       "       3651510.30475486, 2383821.59032816, 2375362.89344741,\n",
       "       2170067.0373398 , 3708576.97047422, 5023860.80367323,\n",
       "       1705627.75338741, 3827511.39818775, 1591304.91226436,\n",
       "       2150704.35506539, 2643085.33254088, 2850043.15524316,\n",
       "       3172804.02379491, 2167108.7783057 , 4261558.49940444,\n",
       "       2720313.58273882, 3795899.03119931, 2759139.60391597,\n",
       "       3081206.1792639 , 3371715.29029097])"
      ]
     },
     "execution_count": 36,
     "metadata": {},
     "output_type": "execute_result"
    }
   ],
   "source": [
    "linear_regressor.predict(X_train)"
   ]
  },
  {
   "cell_type": "code",
   "execution_count": 37,
   "metadata": {},
   "outputs": [
    {
     "name": "stdout",
     "output_type": "stream",
     "text": [
      "[[ 5653753.          3862675.6147185 ]\n",
      " [ 6923131.          3199169.55162581]\n",
      " [ 2055379.          1812772.23932892]\n",
      " [ 2675511.           553156.48441622]\n",
      " [ 4316715.          2032786.80401043]\n",
      " [ 5017319.          3941204.47292003]\n",
      " [ 5166635.          2628568.50534307]\n",
      " [ 4491607.          3065429.66268009]\n",
      " [ 4952497.          1387177.33359551]\n",
      " [ 5444227.          1808255.17185237]\n",
      " [ 3745135.          3350738.31079429]\n",
      " [ 5161370.          2501251.43304818]\n",
      " [ 1734634.          1859874.57055866]\n",
      " [ 4807746.          3076647.66549428]\n",
      " [ 1999097.          1868152.84766392]\n",
      " [ 3218918.          2110695.74691134]\n",
      " [19696939.          4591171.38508465]\n",
      " [ 8213524.          3231379.57125691]\n",
      " [ 5337526.          2255479.95116135]\n",
      " [ 2021934.          2067574.61058647]\n",
      " [ 5525735.          2239398.18625452]\n",
      " [ 1149870.          2945464.68539956]\n",
      " [ 3956086.          2640580.13234153]\n",
      " [ 2999068.          2789859.34026159]\n",
      " [ 8904084.          3240425.8701627 ]\n",
      " [ 3778621.          2266135.63488994]\n",
      " [ 2267425.          2969725.55866808]\n",
      " [ 5435276.          4051065.79504009]\n",
      " [ 4705945.          4359135.41599587]\n",
      " [ 3447890.          2957284.03195802]\n",
      " [ 3008199.          1622700.03534923]\n",
      " [ 2058644.          2409877.05977174]\n",
      " [ 3261924.          2643061.52287104]\n",
      " [ 2371202.          1782053.42787595]\n",
      " [ 4100886.          3066846.57509735]\n",
      " [ 3903884.          4154571.83198663]\n",
      " [ 3028267.          3384111.86372617]\n",
      " [ 2740687.          2279505.09915456]\n",
      " [ 5461700.          3375256.01766759]\n",
      " [ 3818055.          3236568.57669803]\n",
      " [ 6836483.          3447302.56376584]\n",
      " [ 4554237.          3744169.16625636]\n",
      " [ 4952255.          3080033.75116502]\n",
      " [ 2732645.          2818663.01829644]\n",
      " [ 4264176.          3027783.35470487]\n",
      " [ 3752885.          2150000.28910046]\n",
      " [ 4250758.          2448011.90136029]\n",
      " [ 7865428.          3255744.2228032 ]\n",
      " [ 7201784.          2674265.82805258]\n",
      " [ 8630682.          3507386.06656196]\n",
      " [ 2156098.          3048530.82893256]\n",
      " [ 3273041.          1728198.26324974]\n",
      " [ 1763231.          1706714.40633794]\n",
      " [ 5595267.          2066138.99391957]\n",
      " [ 4651866.          3560258.12267255]\n",
      " [ 6941173.          3268112.63989202]\n",
      " [ 2390534.          2766531.86083311]\n",
      " [ 3258837.          2673009.74288665]\n",
      " [ 3004429.          2552268.99035878]\n",
      " [ 3600467.          3320867.76204185]\n",
      " [ 3164972.          1713296.01586898]\n",
      " [ 4350573.          3863146.17299918]\n",
      " [ 5286212.          2578735.71681844]\n",
      " [ 1619683.          1524063.30895686]\n",
      " [ 2551252.          3680869.48116614]\n",
      " [ 1756069.          2539466.2194509 ]\n",
      " [ 1882131.          1940995.82848594]\n",
      " [ 4052733.          3632828.15144395]\n",
      " [ 3836721.          2622722.1202154 ]\n",
      " [ 3452382.          1595881.79966323]\n",
      " [ 3982767.          3528789.68420669]\n",
      " [ 4136425.          3450634.11921191]\n",
      " [ 2525375.          3409280.16279677]\n",
      " [ 3347767.          3662378.43554825]\n",
      " [ 5500818.          3905240.16391299]\n",
      " [16549064.          4658089.02038105]\n",
      " [ 4590423.          2717681.17389692]\n",
      " [ 1904842.          3180484.43184166]\n",
      " [ 3871344.          2208360.15953706]\n",
      " [ 6313221.          2024197.04130077]\n",
      " [ 3727364.          3461547.9841803 ]\n",
      " [ 4066618.          3562580.51255697]\n",
      " [ 3807496.          2096306.19075026]\n",
      " [ 5966193.          4338114.32725289]\n",
      " [ 4250553.          2611728.66554042]\n",
      " [ 7495092.          4520334.67520643]\n",
      " [ 3351383.          2064045.55992389]\n",
      " [ 5906596.          3737855.0032349 ]\n",
      " [ 2025297.          1677535.65297671]\n",
      " [ 2364478.          1957317.76474015]\n",
      " [ 3426169.          2963156.34646512]\n",
      " [ 2083447.          2393359.66311805]\n",
      " [ 6782425.          4962167.00169561]\n",
      " [ 3410878.          1847740.63840553]\n",
      " [ 3753720.          1837163.30641723]\n",
      " [ 1270499.          2013282.48455332]\n",
      " [ 6412623.          2735729.64127459]\n",
      " [ 6694797.          3836917.71553493]\n",
      " [ 2344689.          2410278.15619853]\n",
      " [13575224.          4932376.86457728]\n",
      " [ 9652350.          3650741.60898472]\n",
      " [ 4758476.          2024858.4323432 ]\n",
      " [ 2738052.          3361451.86230149]\n",
      " [ 4429512.          2218356.68892227]\n",
      " [ 4467728.          2254267.97162376]\n",
      " [ 2792031.          2080055.73797632]\n",
      " [ 4888774.          1480531.76399328]\n",
      " [ 3248660.          2228166.06368079]\n",
      " [ 3570392.          1958844.19714406]\n",
      " [ 4219263.          3872757.057745  ]\n",
      " [ 2954086.           576120.35250585]\n",
      " [ 2993069.          1846497.15234149]\n",
      " [ 3784230.          4532064.77303468]\n",
      " [ 2097022.          2784931.30222486]\n",
      " [ 4155435.          2646688.52569204]\n",
      " [ 4882985.          1124463.4974239 ]\n",
      " [ 8894598.          2778971.85396635]\n",
      " [ 2018785.          3651510.30475486]\n",
      " [ 1847826.          2383821.59032816]\n",
      " [ 3780019.          2375362.89344741]\n",
      " [ 4067566.          2170067.0373398 ]\n",
      " [ 3445076.          3708576.97047422]\n",
      " [ 4286645.          5023860.80367323]\n",
      " [ 4263629.          1705627.75338741]\n",
      " [ 3810007.          3827511.39818775]\n",
      " [ 4780607.          1591304.91226436]\n",
      " [ 4015749.          2150704.35506539]\n",
      " [ 7592272.          2643085.33254088]\n",
      " [ 2383840.          2850043.15524316]\n",
      " [ 3939804.          3172804.02379491]\n",
      " [ 3376145.          2167108.7783057 ]\n",
      " [ 3199619.          4261558.49940444]\n",
      " [ 5787594.          2720313.58273882]\n",
      " [ 9262754.          3795899.03119931]\n",
      " [ 2544857.          2759139.60391597]\n",
      " [ 7217634.          3081206.1792639 ]\n",
      " [ 6363241.          3371715.29029097]]\n"
     ]
    }
   ],
   "source": [
    "predictions = linear_regressor.predict(X_train)\n",
    "\n",
    "print(np.concatenate((y_train.reshape(-1,1), predictions.reshape(-1,1)), axis=1))"
   ]
  },
  {
   "cell_type": "code",
   "execution_count": 38,
   "metadata": {},
   "outputs": [
    {
     "name": "stdout",
     "output_type": "stream",
     "text": [
      "7982421711017.063\n"
     ]
    }
   ],
   "source": [
    "from sklearn.metrics import mean_squared_error\n",
    "\n",
    "mse_train = mean_squared_error(y_train, predictions)\n",
    "print(mse_train)"
   ]
  },
  {
   "attachments": {},
   "cell_type": "markdown",
   "metadata": {},
   "source": [
    "# With SKLEARN"
   ]
  },
  {
   "cell_type": "code",
   "execution_count": 39,
   "metadata": {},
   "outputs": [
    {
     "data": {
      "text/html": [
       "<style>#sk-container-id-2 {color: black;background-color: white;}#sk-container-id-2 pre{padding: 0;}#sk-container-id-2 div.sk-toggleable {background-color: white;}#sk-container-id-2 label.sk-toggleable__label {cursor: pointer;display: block;width: 100%;margin-bottom: 0;padding: 0.3em;box-sizing: border-box;text-align: center;}#sk-container-id-2 label.sk-toggleable__label-arrow:before {content: \"▸\";float: left;margin-right: 0.25em;color: #696969;}#sk-container-id-2 label.sk-toggleable__label-arrow:hover:before {color: black;}#sk-container-id-2 div.sk-estimator:hover label.sk-toggleable__label-arrow:before {color: black;}#sk-container-id-2 div.sk-toggleable__content {max-height: 0;max-width: 0;overflow: hidden;text-align: left;background-color: #f0f8ff;}#sk-container-id-2 div.sk-toggleable__content pre {margin: 0.2em;color: black;border-radius: 0.25em;background-color: #f0f8ff;}#sk-container-id-2 input.sk-toggleable__control:checked~div.sk-toggleable__content {max-height: 200px;max-width: 100%;overflow: auto;}#sk-container-id-2 input.sk-toggleable__control:checked~label.sk-toggleable__label-arrow:before {content: \"▾\";}#sk-container-id-2 div.sk-estimator input.sk-toggleable__control:checked~label.sk-toggleable__label {background-color: #d4ebff;}#sk-container-id-2 div.sk-label input.sk-toggleable__control:checked~label.sk-toggleable__label {background-color: #d4ebff;}#sk-container-id-2 input.sk-hidden--visually {border: 0;clip: rect(1px 1px 1px 1px);clip: rect(1px, 1px, 1px, 1px);height: 1px;margin: -1px;overflow: hidden;padding: 0;position: absolute;width: 1px;}#sk-container-id-2 div.sk-estimator {font-family: monospace;background-color: #f0f8ff;border: 1px dotted black;border-radius: 0.25em;box-sizing: border-box;margin-bottom: 0.5em;}#sk-container-id-2 div.sk-estimator:hover {background-color: #d4ebff;}#sk-container-id-2 div.sk-parallel-item::after {content: \"\";width: 100%;border-bottom: 1px solid gray;flex-grow: 1;}#sk-container-id-2 div.sk-label:hover label.sk-toggleable__label {background-color: #d4ebff;}#sk-container-id-2 div.sk-serial::before {content: \"\";position: absolute;border-left: 1px solid gray;box-sizing: border-box;top: 0;bottom: 0;left: 50%;z-index: 0;}#sk-container-id-2 div.sk-serial {display: flex;flex-direction: column;align-items: center;background-color: white;padding-right: 0.2em;padding-left: 0.2em;position: relative;}#sk-container-id-2 div.sk-item {position: relative;z-index: 1;}#sk-container-id-2 div.sk-parallel {display: flex;align-items: stretch;justify-content: center;background-color: white;position: relative;}#sk-container-id-2 div.sk-item::before, #sk-container-id-2 div.sk-parallel-item::before {content: \"\";position: absolute;border-left: 1px solid gray;box-sizing: border-box;top: 0;bottom: 0;left: 50%;z-index: -1;}#sk-container-id-2 div.sk-parallel-item {display: flex;flex-direction: column;z-index: 1;position: relative;background-color: white;}#sk-container-id-2 div.sk-parallel-item:first-child::after {align-self: flex-end;width: 50%;}#sk-container-id-2 div.sk-parallel-item:last-child::after {align-self: flex-start;width: 50%;}#sk-container-id-2 div.sk-parallel-item:only-child::after {width: 0;}#sk-container-id-2 div.sk-dashed-wrapped {border: 1px dashed gray;margin: 0 0.4em 0.5em 0.4em;box-sizing: border-box;padding-bottom: 0.4em;background-color: white;}#sk-container-id-2 div.sk-label label {font-family: monospace;font-weight: bold;display: inline-block;line-height: 1.2em;}#sk-container-id-2 div.sk-label-container {text-align: center;}#sk-container-id-2 div.sk-container {/* jupyter's `normalize.less` sets `[hidden] { display: none; }` but bootstrap.min.css set `[hidden] { display: none !important; }` so we also need the `!important` here to be able to override the default hidden behavior on the sphinx rendered scikit-learn.org. See: https://github.com/scikit-learn/scikit-learn/issues/21755 */display: inline-block !important;position: relative;}#sk-container-id-2 div.sk-text-repr-fallback {display: none;}</style><div id=\"sk-container-id-2\" class=\"sk-top-container\"><div class=\"sk-text-repr-fallback\"><pre>LinearRegression()</pre><b>In a Jupyter environment, please rerun this cell to show the HTML representation or trust the notebook. <br />On GitHub, the HTML representation is unable to render, please try loading this page with nbviewer.org.</b></div><div class=\"sk-container\" hidden><div class=\"sk-item\"><div class=\"sk-estimator sk-toggleable\"><input class=\"sk-toggleable__control sk-hidden--visually\" id=\"sk-estimator-id-2\" type=\"checkbox\" checked><label for=\"sk-estimator-id-2\" class=\"sk-toggleable__label sk-toggleable__label-arrow\">LinearRegression</label><div class=\"sk-toggleable__content\"><pre>LinearRegression()</pre></div></div></div></div></div>"
      ],
      "text/plain": [
       "LinearRegression()"
      ]
     },
     "execution_count": 39,
     "metadata": {},
     "output_type": "execute_result"
    }
   ],
   "source": [
    "from sklearn.linear_model import LinearRegression\n",
    "\n",
    "regressor_sk = LinearRegression()\n",
    "\n",
    "regressor_sk.fit(X_train, y_train)"
   ]
  },
  {
   "cell_type": "code",
   "execution_count": 40,
   "metadata": {},
   "outputs": [
    {
     "data": {
      "text/plain": [
       "array([6886267.97159433, 5322137.46996486, 2893768.41262468,\n",
       "       3981643.61490485, 3486080.88728309, 6474874.08040399,\n",
       "       4388239.81953308, 3610134.0431247 , 3951436.39349757,\n",
       "       3051089.22214775, 6328115.82285075, 5254724.60002697,\n",
       "       2018727.02589726, 4477992.4225517 , 2434562.0902433 ,\n",
       "       3703721.73744747, 8258507.56151683, 5500789.12284652,\n",
       "       2613128.2733489 , 3427280.24663754, 6481959.06386474,\n",
       "       3895824.04506936, 4172924.31506163, 5367654.0296344 ,\n",
       "       6643998.94751045, 4491976.49337663, 4795574.6010644 ,\n",
       "       5628590.10492339, 5489916.86217021, 3906140.85678957,\n",
       "       2265288.29937635, 2011263.4035422 , 4459756.05012046,\n",
       "       3275133.22348628, 4388142.78519468, 5482986.99522054,\n",
       "       4452208.46977388, 4749432.42285903, 6294175.29204949,\n",
       "       3451735.07531247, 6728922.15462536, 5246425.8316755 ,\n",
       "       5053185.47099826, 3785839.93539695, 5471640.93639043,\n",
       "       1904430.60295407, 3545300.94765195, 7412425.24905459,\n",
       "       3866957.24670637, 7523934.33546165, 3440007.33519101,\n",
       "       2260514.91300209, 2126450.62687755, 3641420.62348419,\n",
       "       6170100.73109901, 6015680.32042437, 3389124.51012947,\n",
       "       5271334.63181408, 3062136.75823726, 4491423.66553569,\n",
       "       4110045.43653942, 5551880.55805681, 5468864.05401433,\n",
       "       2509221.14341709, 5124569.66958377, 4172434.31812028,\n",
       "       3561792.34636253, 5465683.65009033, 4257777.70112707,\n",
       "       2865111.32253828, 4546544.18322341, 5232849.43161685,\n",
       "       4486298.27011967, 5426872.4719391 , 6171464.41266813,\n",
       "       8094391.92592854, 3064519.9780048 , 3237441.68938199,\n",
       "       2707426.7910628 , 3969219.47832629, 4928487.12022812,\n",
       "       5272046.78476405, 2992669.24960859, 7551624.63727098,\n",
       "       4001277.49816089, 8152766.76687361, 3195066.43461837,\n",
       "       5037729.06012088, 3180256.86491471, 2995654.84352384,\n",
       "       2177144.94610679, 3655882.45646112, 7602993.33481628,\n",
       "       1047142.76063363, 3860481.13499772, 3386868.680225  ,\n",
       "       5056528.85480406, 7039066.44444349, 3917529.52096419,\n",
       "       7769307.57234034, 5320051.70239272, 3440998.99694598,\n",
       "       4821000.90792662, 3099449.35763681, 1414687.64838173,\n",
       "       3352364.82383863, 2630206.91879104, 3965464.45496208,\n",
       "       2773500.51504077, 6120223.91034227, 2957481.73978999,\n",
       "       3766835.51452543, 6423443.54815729, 4297578.16727136,\n",
       "       4335555.29317333, 2655226.31900084, 4009216.31861579,\n",
       "       5141111.07807155, 3304295.45058124, 4077116.8530869 ,\n",
       "       3620825.25814815, 6177895.09828916, 4402826.97585383,\n",
       "       3748310.28129876, 5725907.86615657, 1543909.58826725,\n",
       "       3294838.63910531, 4986759.89919588, 5177455.8598783 ,\n",
       "       5623395.63263654, 4066302.09325728, 5427693.32724398,\n",
       "       3854971.13517357, 5657863.60716047, 4739996.19155624,\n",
       "       5735955.40289351, 5423158.84579851])"
      ]
     },
     "execution_count": 40,
     "metadata": {},
     "output_type": "execute_result"
    }
   ],
   "source": [
    "regressor_sk.predict(X_train)"
   ]
  },
  {
   "cell_type": "code",
   "execution_count": 41,
   "metadata": {},
   "outputs": [
    {
     "name": "stdout",
     "output_type": "stream",
     "text": [
      "[[ 5653753.          6886267.97159433]\n",
      " [ 6923131.          5322137.46996486]\n",
      " [ 2055379.          2893768.41262468]\n",
      " [ 2675511.          3981643.61490485]\n",
      " [ 4316715.          3486080.88728309]\n",
      " [ 5017319.          6474874.08040399]\n",
      " [ 5166635.          4388239.81953308]\n",
      " [ 4491607.          3610134.0431247 ]\n",
      " [ 4952497.          3951436.39349757]\n",
      " [ 5444227.          3051089.22214775]\n",
      " [ 3745135.          6328115.82285075]\n",
      " [ 5161370.          5254724.60002697]\n",
      " [ 1734634.          2018727.02589726]\n",
      " [ 4807746.          4477992.4225517 ]\n",
      " [ 1999097.          2434562.0902433 ]\n",
      " [ 3218918.          3703721.73744747]\n",
      " [19696939.          8258507.56151683]\n",
      " [ 8213524.          5500789.12284652]\n",
      " [ 5337526.          2613128.2733489 ]\n",
      " [ 2021934.          3427280.24663754]\n",
      " [ 5525735.          6481959.06386474]\n",
      " [ 1149870.          3895824.04506936]\n",
      " [ 3956086.          4172924.31506163]\n",
      " [ 2999068.          5367654.0296344 ]\n",
      " [ 8904084.          6643998.94751045]\n",
      " [ 3778621.          4491976.49337663]\n",
      " [ 2267425.          4795574.6010644 ]\n",
      " [ 5435276.          5628590.10492339]\n",
      " [ 4705945.          5489916.86217021]\n",
      " [ 3447890.          3906140.85678957]\n",
      " [ 3008199.          2265288.29937635]\n",
      " [ 2058644.          2011263.4035422 ]\n",
      " [ 3261924.          4459756.05012046]\n",
      " [ 2371202.          3275133.22348628]\n",
      " [ 4100886.          4388142.78519468]\n",
      " [ 3903884.          5482986.99522054]\n",
      " [ 3028267.          4452208.46977388]\n",
      " [ 2740687.          4749432.42285903]\n",
      " [ 5461700.          6294175.29204949]\n",
      " [ 3818055.          3451735.07531247]\n",
      " [ 6836483.          6728922.15462536]\n",
      " [ 4554237.          5246425.8316755 ]\n",
      " [ 4952255.          5053185.47099826]\n",
      " [ 2732645.          3785839.93539695]\n",
      " [ 4264176.          5471640.93639043]\n",
      " [ 3752885.          1904430.60295407]\n",
      " [ 4250758.          3545300.94765195]\n",
      " [ 7865428.          7412425.24905459]\n",
      " [ 7201784.          3866957.24670637]\n",
      " [ 8630682.          7523934.33546165]\n",
      " [ 2156098.          3440007.33519101]\n",
      " [ 3273041.          2260514.91300209]\n",
      " [ 1763231.          2126450.62687755]\n",
      " [ 5595267.          3641420.62348419]\n",
      " [ 4651866.          6170100.73109901]\n",
      " [ 6941173.          6015680.32042437]\n",
      " [ 2390534.          3389124.51012947]\n",
      " [ 3258837.          5271334.63181408]\n",
      " [ 3004429.          3062136.75823726]\n",
      " [ 3600467.          4491423.66553569]\n",
      " [ 3164972.          4110045.43653942]\n",
      " [ 4350573.          5551880.55805681]\n",
      " [ 5286212.          5468864.05401433]\n",
      " [ 1619683.          2509221.14341709]\n",
      " [ 2551252.          5124569.66958377]\n",
      " [ 1756069.          4172434.31812028]\n",
      " [ 1882131.          3561792.34636253]\n",
      " [ 4052733.          5465683.65009033]\n",
      " [ 3836721.          4257777.70112707]\n",
      " [ 3452382.          2865111.32253828]\n",
      " [ 3982767.          4546544.18322341]\n",
      " [ 4136425.          5232849.43161685]\n",
      " [ 2525375.          4486298.27011967]\n",
      " [ 3347767.          5426872.4719391 ]\n",
      " [ 5500818.          6171464.41266813]\n",
      " [16549064.          8094391.92592854]\n",
      " [ 4590423.          3064519.9780048 ]\n",
      " [ 1904842.          3237441.68938199]\n",
      " [ 3871344.          2707426.7910628 ]\n",
      " [ 6313221.          3969219.47832629]\n",
      " [ 3727364.          4928487.12022812]\n",
      " [ 4066618.          5272046.78476405]\n",
      " [ 3807496.          2992669.24960859]\n",
      " [ 5966193.          7551624.63727098]\n",
      " [ 4250553.          4001277.49816089]\n",
      " [ 7495092.          8152766.76687361]\n",
      " [ 3351383.          3195066.43461837]\n",
      " [ 5906596.          5037729.06012088]\n",
      " [ 2025297.          3180256.86491471]\n",
      " [ 2364478.          2995654.84352384]\n",
      " [ 3426169.          2177144.94610679]\n",
      " [ 2083447.          3655882.45646112]\n",
      " [ 6782425.          7602993.33481628]\n",
      " [ 3410878.          1047142.76063363]\n",
      " [ 3753720.          3860481.13499772]\n",
      " [ 1270499.          3386868.680225  ]\n",
      " [ 6412623.          5056528.85480406]\n",
      " [ 6694797.          7039066.44444349]\n",
      " [ 2344689.          3917529.52096419]\n",
      " [13575224.          7769307.57234034]\n",
      " [ 9652350.          5320051.70239272]\n",
      " [ 4758476.          3440998.99694598]\n",
      " [ 2738052.          4821000.90792662]\n",
      " [ 4429512.          3099449.35763681]\n",
      " [ 4467728.          1414687.64838173]\n",
      " [ 2792031.          3352364.82383863]\n",
      " [ 4888774.          2630206.91879104]\n",
      " [ 3248660.          3965464.45496208]\n",
      " [ 3570392.          2773500.51504077]\n",
      " [ 4219263.          6120223.91034227]\n",
      " [ 2954086.          2957481.73978999]\n",
      " [ 2993069.          3766835.51452543]\n",
      " [ 3784230.          6423443.54815729]\n",
      " [ 2097022.          4297578.16727136]\n",
      " [ 4155435.          4335555.29317333]\n",
      " [ 4882985.          2655226.31900084]\n",
      " [ 8894598.          4009216.31861579]\n",
      " [ 2018785.          5141111.07807155]\n",
      " [ 1847826.          3304295.45058124]\n",
      " [ 3780019.          4077116.8530869 ]\n",
      " [ 4067566.          3620825.25814815]\n",
      " [ 3445076.          6177895.09828916]\n",
      " [ 4286645.          4402826.97585383]\n",
      " [ 4263629.          3748310.28129876]\n",
      " [ 3810007.          5725907.86615657]\n",
      " [ 4780607.          1543909.58826725]\n",
      " [ 4015749.          3294838.63910531]\n",
      " [ 7592272.          4986759.89919588]\n",
      " [ 2383840.          5177455.8598783 ]\n",
      " [ 3939804.          5623395.63263654]\n",
      " [ 3376145.          4066302.09325728]\n",
      " [ 3199619.          5427693.32724398]\n",
      " [ 5787594.          3854971.13517357]\n",
      " [ 9262754.          5657863.60716047]\n",
      " [ 2544857.          4739996.19155624]\n",
      " [ 7217634.          5735955.40289351]\n",
      " [ 6363241.          5423158.84579851]]\n"
     ]
    }
   ],
   "source": [
    "predictions_sk = regressor_sk.predict(X_train)\n",
    "\n",
    "print(np.concatenate((y_train.reshape(-1,1), predictions_sk.reshape(-1,1)), axis=1))"
   ]
  },
  {
   "cell_type": "code",
   "execution_count": 42,
   "metadata": {},
   "outputs": [
    {
     "name": "stdout",
     "output_type": "stream",
     "text": [
      "4319040910230.0757\n"
     ]
    }
   ],
   "source": [
    "from sklearn.metrics import mean_squared_error\n",
    "\n",
    "mse_sk = mean_squared_error(y_train, predictions_sk)\n",
    "print(mse_sk)"
   ]
  },
  {
   "cell_type": "code",
   "execution_count": 43,
   "metadata": {},
   "outputs": [
    {
     "data": {
      "text/plain": [
       "False"
      ]
     },
     "execution_count": 43,
     "metadata": {},
     "output_type": "execute_result"
    }
   ],
   "source": [
    "mse_train < mse_sk"
   ]
  },
  {
   "attachments": {},
   "cell_type": "markdown",
   "metadata": {},
   "source": [
    "# With TEST data"
   ]
  },
  {
   "cell_type": "code",
   "execution_count": 44,
   "metadata": {},
   "outputs": [
    {
     "name": "stdout",
     "output_type": "stream",
     "text": [
      "   Id  Open Date  City Group  Type  P1   P2   P3   P4  P5  P6  P7  P8  P9  \\\n",
      "0   0       2011           1     1   1  4.0  4.0  4.0   1   2   5   4   5   \n",
      "1   1       2011           1     2   3  4.0  4.0  4.0   2   2   5   3   4   \n",
      "2   2       2013           0     1   3  4.0  4.0  4.0   2   2   5   4   4   \n",
      "3   3       2013           1     2   2  4.0  4.0  4.0   2   3   5   4   5   \n",
      "4   4       2013           1     1   2  4.0  4.0  4.0   1   2   5   4   5   \n",
      "\n",
      "   P10  P11  P12  P13  P14  P15  P16  P17  P18  P19  P20  P21  P22  P23  P24  \\\n",
      "0    5    5    3  4.0    0    0    0    2    0    5    5    3    1    4    0   \n",
      "1    4    2    4  5.0    0    0    0    0    0    5    5    3    2    1    0   \n",
      "2    5    4    5  5.0    0    0    0    0    0    5    5    5    5    5    0   \n",
      "3    4    3    4  5.0    0    0    0    0    4    4    4    3    2    2    0   \n",
      "4    4    3    5  4.0    0    0    0    0    0    1    5    3    1    1    0   \n",
      "\n",
      "   P25  P26  P27  P28  P29  P30  P31  P32  P33  P34  P35  P36  P37  \n",
      "0    0  0.0  0.0  2.0  3.0    0    0    0    0    0    0    0    0  \n",
      "1    0  0.0  0.0  1.0  3.0    0    0    0    0    0    0    0    0  \n",
      "2    0  0.0  0.0  2.0  3.0    0    0    0    0    0    0    0    0  \n",
      "3    0  0.0  0.0  2.0  3.0    0    4    0    0    0    0    0    0  \n",
      "4    0  0.0  0.0  5.0  3.0    0    0    0    0    0    0    0    0  \n"
     ]
    }
   ],
   "source": [
    "test_dataset = pd.read_csv(\"processed_test.csv\")\n",
    "print(test_dataset.head())"
   ]
  },
  {
   "cell_type": "code",
   "execution_count": 45,
   "metadata": {},
   "outputs": [],
   "source": [
    "X_test = test_dataset.iloc[:, 1:].values"
   ]
  },
  {
   "cell_type": "code",
   "execution_count": 46,
   "metadata": {},
   "outputs": [],
   "source": [
    "X_test = scaler.transform(X_test)"
   ]
  },
  {
   "cell_type": "code",
   "execution_count": 47,
   "metadata": {},
   "outputs": [
    {
     "name": "stdout",
     "output_type": "stream",
     "text": [
      "[2699493.38297374 2095651.80441223 2748122.01245086 ... 3043878.98764644\n",
      " 2905624.61890897 2940490.92619921]\n"
     ]
    }
   ],
   "source": [
    "test_predictions = linear_regressor.predict(X_test)\n",
    "print(test_predictions)"
   ]
  }
 ],
 "metadata": {
  "kernelspec": {
   "display_name": "Python 3",
   "language": "python",
   "name": "python3"
  },
  "language_info": {
   "codemirror_mode": {
    "name": "ipython",
    "version": 3
   },
   "file_extension": ".py",
   "mimetype": "text/x-python",
   "name": "python",
   "nbconvert_exporter": "python",
   "pygments_lexer": "ipython3",
   "version": "3.10.5"
  },
  "orig_nbformat": 4
 },
 "nbformat": 4,
 "nbformat_minor": 2
}
